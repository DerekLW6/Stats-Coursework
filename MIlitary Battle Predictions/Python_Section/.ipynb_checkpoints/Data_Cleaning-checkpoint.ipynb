{
 "cells": [
  {
   "cell_type": "code",
   "execution_count": 2,
   "metadata": {},
   "outputs": [],
   "source": [
    "import pandas as pd\n",
    "import numpy as np"
   ]
  },
  {
   "cell_type": "code",
   "execution_count": 2,
   "metadata": {},
   "outputs": [],
   "source": [
    "working_df = pd.read_csv('CDB90-patched.csv')"
   ]
  },
  {
   "cell_type": "markdown",
   "metadata": {},
   "source": [
    "### Selecting WWI and WWII"
   ]
  },
  {
   "cell_type": "code",
   "execution_count": 3,
   "metadata": {},
   "outputs": [],
   "source": [
    "war_df = working_df.loc[(working_df['WAR'] == 'WORLD WAR II')|\n",
    "                        (working_df['WAR'] == 'WORLD WAR II (EASTERN FRONT)') |\n",
    "                        (working_df['WAR'] == 'WORLD WAR II (NORTH AFRICA 1942-1943)')|\n",
    "                        (working_df['WAR'] == 'WORLD WAR II (ITALY 1943-1944)')|\n",
    "                        (working_df['WAR'] == 'WORLD WAR II (ITALY 1944)')|\n",
    "                        (working_df['WAR'] == 'WORLD WAR II (EUROPEAN THEATER)')|\n",
    "                        (working_df['WAR'] == 'WORLD WAR II (OKINAWA)')|\n",
    "                        (working_df['WAR'] == 'WORLD WAR I (WESTERN FRONT 1914)')|\n",
    "                        (working_df['WAR'] == 'WORLD WAR I (EASTERN FRONT 1914)')|\n",
    "                        (working_df['WAR'] == 'WORLD WAR I (SERBIAN FRONT 1914)')|\n",
    "                        (working_df['WAR'] == 'WORLD WAR I')|\n",
    "                        (working_df['WAR'] == 'WORLD WAR I (ITALIAN FRONT 1915)')|\n",
    "                        (working_df['WAR'] == 'WORLD WAR I (TURKISH FRONTS 1915)')|\n",
    "                        (working_df['WAR'] == 'WORLD WAR I (TURKISH FRONTS 1917)')|\n",
    "                        (working_df['WAR'] == 'WORLD WAR I (WESTERN FRONT 1918)')]"
   ]
  },
  {
   "cell_type": "code",
   "execution_count": 4,
   "metadata": {},
   "outputs": [],
   "source": [
    "war_df2 = war_df.copy()"
   ]
  },
  {
   "cell_type": "code",
   "execution_count": 5,
   "metadata": {},
   "outputs": [
    {
     "name": "stderr",
     "output_type": "stream",
     "text": [
      "C:\\ProgramData\\Anaconda3\\lib\\site-packages\\pandas\\core\\indexing.py:1494: FutureWarning: \n",
      "Passing list-likes to .loc or [] with any missing label will raise\n",
      "KeyError in the future, you can use .reindex() as an alternative.\n",
      "\n",
      "See the documentation here:\n",
      "https://pandas.pydata.org/pandas-docs/stable/indexing.html#deprecate-loc-reindex-listlike\n",
      "  return self._getitem_tuple(key)\n"
     ]
    }
   ],
   "source": [
    "war_df3 = war_df2.loc[:, ['ISEQNO', 'WINA', 'WAR','NAME', 'LOCN', 'CAMPAGN', 'NAMA', 'COA','NAMD','COD', 'WOFA1', 'WOFD1','POST1','TERRA1', 'WX1', 'SURPA', 'AEROA', 'INTSTA', 'RERPA', 'CASA', \n",
    "                         'INTSTD', 'RERPD','CASD', 'TANKA', 'ARTYA', 'TANKD', 'ARTYD', 'LEADA', 'TRNGA','MORALA', 'LOGSA','MOMNTA', 'INTELA', 'INITA', 'ACHA', 'PRIA1', 'ATPBYR1', 'ATPBMN1', 'ATPEYR1', 'ATPEMN1']]"
   ]
  },
  {
   "cell_type": "markdown",
   "metadata": {},
   "source": [
    "#### Reset Index"
   ]
  },
  {
   "cell_type": "code",
   "execution_count": 6,
   "metadata": {},
   "outputs": [
    {
     "data": {
      "text/html": [
       "<div>\n",
       "<style scoped>\n",
       "    .dataframe tbody tr th:only-of-type {\n",
       "        vertical-align: middle;\n",
       "    }\n",
       "\n",
       "    .dataframe tbody tr th {\n",
       "        vertical-align: top;\n",
       "    }\n",
       "\n",
       "    .dataframe thead th {\n",
       "        text-align: right;\n",
       "    }\n",
       "</style>\n",
       "<table border=\"1\" class=\"dataframe\">\n",
       "  <thead>\n",
       "    <tr style=\"text-align: right;\">\n",
       "      <th></th>\n",
       "      <th>index</th>\n",
       "      <th>ISEQNO</th>\n",
       "      <th>WINA</th>\n",
       "      <th>WAR</th>\n",
       "      <th>NAME</th>\n",
       "      <th>LOCN</th>\n",
       "      <th>CAMPAGN</th>\n",
       "      <th>NAMA</th>\n",
       "      <th>COA</th>\n",
       "      <th>NAMD</th>\n",
       "      <th>...</th>\n",
       "      <th>LOGSA</th>\n",
       "      <th>MOMNTA</th>\n",
       "      <th>INTELA</th>\n",
       "      <th>INITA</th>\n",
       "      <th>ACHA</th>\n",
       "      <th>PRIA1</th>\n",
       "      <th>ATPBYR1</th>\n",
       "      <th>ATPBMN1</th>\n",
       "      <th>ATPEYR1</th>\n",
       "      <th>ATPEMN1</th>\n",
       "    </tr>\n",
       "  </thead>\n",
       "  <tbody>\n",
       "    <tr>\n",
       "      <th>0</th>\n",
       "      <td>261</td>\n",
       "      <td>NaN</td>\n",
       "      <td>-1</td>\n",
       "      <td>WORLD WAR I (WESTERN FRONT 1914)</td>\n",
       "      <td>ALSACE-LORRAINE I</td>\n",
       "      <td>GERMANY</td>\n",
       "      <td>NaN</td>\n",
       "      <td>FR 1ST &amp; 2ND ARMIES, ARMY OF ALSACE</td>\n",
       "      <td>GEN JOFFRE</td>\n",
       "      <td>GER 6TH &amp;7TH ARMIES</td>\n",
       "      <td>...</td>\n",
       "      <td>0</td>\n",
       "      <td>0</td>\n",
       "      <td>0</td>\n",
       "      <td>0</td>\n",
       "      <td>4</td>\n",
       "      <td>FF</td>\n",
       "      <td>1914</td>\n",
       "      <td>8</td>\n",
       "      <td>1914</td>\n",
       "      <td>8</td>\n",
       "    </tr>\n",
       "    <tr>\n",
       "      <th>1</th>\n",
       "      <td>262</td>\n",
       "      <td>NaN</td>\n",
       "      <td>1</td>\n",
       "      <td>WORLD WAR I (WESTERN FRONT 1914)</td>\n",
       "      <td>ALSACE-LORRAINE II</td>\n",
       "      <td>GERMANY AND FRANCE</td>\n",
       "      <td>NaN</td>\n",
       "      <td>GER 6TH &amp; 7TH ARMIES</td>\n",
       "      <td>GEN MOLTKE</td>\n",
       "      <td>FR 1ST &amp; 2ND ARMIES &amp; ARMY OF ALSACE</td>\n",
       "      <td>...</td>\n",
       "      <td>0</td>\n",
       "      <td>0</td>\n",
       "      <td>0</td>\n",
       "      <td>0</td>\n",
       "      <td>8</td>\n",
       "      <td>FF</td>\n",
       "      <td>1914</td>\n",
       "      <td>8</td>\n",
       "      <td>1914</td>\n",
       "      <td>8</td>\n",
       "    </tr>\n",
       "  </tbody>\n",
       "</table>\n",
       "<p>2 rows × 41 columns</p>\n",
       "</div>"
      ],
      "text/plain": [
       "   index  ISEQNO  WINA                               WAR                NAME  \\\n",
       "0    261     NaN    -1  WORLD WAR I (WESTERN FRONT 1914)   ALSACE-LORRAINE I   \n",
       "1    262     NaN     1  WORLD WAR I (WESTERN FRONT 1914)  ALSACE-LORRAINE II   \n",
       "\n",
       "                 LOCN CAMPAGN                                 NAMA  \\\n",
       "0             GERMANY     NaN  FR 1ST & 2ND ARMIES, ARMY OF ALSACE   \n",
       "1  GERMANY AND FRANCE     NaN                 GER 6TH & 7TH ARMIES   \n",
       "\n",
       "          COA                                  NAMD  ... LOGSA  MOMNTA  \\\n",
       "0  GEN JOFFRE                   GER 6TH &7TH ARMIES  ...     0       0   \n",
       "1  GEN MOLTKE  FR 1ST & 2ND ARMIES & ARMY OF ALSACE  ...     0       0   \n",
       "\n",
       "   INTELA INITA ACHA PRIA1  ATPBYR1  ATPBMN1  ATPEYR1  ATPEMN1  \n",
       "0       0     0    4    FF     1914        8     1914        8  \n",
       "1       0     0    8    FF     1914        8     1914        8  \n",
       "\n",
       "[2 rows x 41 columns]"
      ]
     },
     "execution_count": 6,
     "metadata": {},
     "output_type": "execute_result"
    }
   ],
   "source": [
    "war_df4 = war_df3\n",
    "war_df4.reset_index(inplace=True)\n",
    "# del war_df4['ISEQNO']\n",
    "# del war_df['level_0']\n",
    "war_df4.head(2)"
   ]
  },
  {
   "cell_type": "code",
   "execution_count": 7,
   "metadata": {},
   "outputs": [
    {
     "data": {
      "text/html": [
       "<div>\n",
       "<style scoped>\n",
       "    .dataframe tbody tr th:only-of-type {\n",
       "        vertical-align: middle;\n",
       "    }\n",
       "\n",
       "    .dataframe tbody tr th {\n",
       "        vertical-align: top;\n",
       "    }\n",
       "\n",
       "    .dataframe thead th {\n",
       "        text-align: right;\n",
       "    }\n",
       "</style>\n",
       "<table border=\"1\" class=\"dataframe\">\n",
       "  <thead>\n",
       "    <tr style=\"text-align: right;\">\n",
       "      <th></th>\n",
       "      <th>index</th>\n",
       "      <th>ISEQNO</th>\n",
       "      <th>WINA</th>\n",
       "      <th>WAR</th>\n",
       "      <th>NAME</th>\n",
       "      <th>LOCN</th>\n",
       "      <th>CAMPAGN</th>\n",
       "      <th>NAMA</th>\n",
       "      <th>COA</th>\n",
       "      <th>NAMD</th>\n",
       "      <th>...</th>\n",
       "      <th>LOGSA</th>\n",
       "      <th>MOMNTA</th>\n",
       "      <th>INTELA</th>\n",
       "      <th>INITA</th>\n",
       "      <th>ACHA</th>\n",
       "      <th>PRIA1</th>\n",
       "      <th>ATPBYR1</th>\n",
       "      <th>ATPBMN1</th>\n",
       "      <th>ATPEYR1</th>\n",
       "      <th>ATPEMN1</th>\n",
       "    </tr>\n",
       "  </thead>\n",
       "  <tbody>\n",
       "    <tr>\n",
       "      <th>0</th>\n",
       "      <td>261</td>\n",
       "      <td>NaN</td>\n",
       "      <td>-1</td>\n",
       "      <td>WORLD WAR I (WESTERN FRONT 1914)</td>\n",
       "      <td>ALSACE-LORRAINE I</td>\n",
       "      <td>GERMANY</td>\n",
       "      <td>NaN</td>\n",
       "      <td>FR 1ST &amp; 2ND ARMIES, ARMY OF ALSACE</td>\n",
       "      <td>GEN JOFFRE</td>\n",
       "      <td>GER 6TH &amp;7TH ARMIES</td>\n",
       "      <td>...</td>\n",
       "      <td>0</td>\n",
       "      <td>0</td>\n",
       "      <td>0</td>\n",
       "      <td>0</td>\n",
       "      <td>4</td>\n",
       "      <td>FF</td>\n",
       "      <td>1914</td>\n",
       "      <td>8</td>\n",
       "      <td>1914</td>\n",
       "      <td>8</td>\n",
       "    </tr>\n",
       "    <tr>\n",
       "      <th>1</th>\n",
       "      <td>262</td>\n",
       "      <td>NaN</td>\n",
       "      <td>1</td>\n",
       "      <td>WORLD WAR I (WESTERN FRONT 1914)</td>\n",
       "      <td>ALSACE-LORRAINE II</td>\n",
       "      <td>GERMANY AND FRANCE</td>\n",
       "      <td>NaN</td>\n",
       "      <td>GER 6TH &amp; 7TH ARMIES</td>\n",
       "      <td>GEN MOLTKE</td>\n",
       "      <td>FR 1ST &amp; 2ND ARMIES &amp; ARMY OF ALSACE</td>\n",
       "      <td>...</td>\n",
       "      <td>0</td>\n",
       "      <td>0</td>\n",
       "      <td>0</td>\n",
       "      <td>0</td>\n",
       "      <td>8</td>\n",
       "      <td>FF</td>\n",
       "      <td>1914</td>\n",
       "      <td>8</td>\n",
       "      <td>1914</td>\n",
       "      <td>8</td>\n",
       "    </tr>\n",
       "  </tbody>\n",
       "</table>\n",
       "<p>2 rows × 41 columns</p>\n",
       "</div>"
      ],
      "text/plain": [
       "   index  ISEQNO  WINA                               WAR                NAME  \\\n",
       "0    261     NaN    -1  WORLD WAR I (WESTERN FRONT 1914)   ALSACE-LORRAINE I   \n",
       "1    262     NaN     1  WORLD WAR I (WESTERN FRONT 1914)  ALSACE-LORRAINE II   \n",
       "\n",
       "                 LOCN CAMPAGN                                 NAMA  \\\n",
       "0             GERMANY     NaN  FR 1ST & 2ND ARMIES, ARMY OF ALSACE   \n",
       "1  GERMANY AND FRANCE     NaN                 GER 6TH & 7TH ARMIES   \n",
       "\n",
       "          COA                                  NAMD  ... LOGSA  MOMNTA  \\\n",
       "0  GEN JOFFRE                   GER 6TH &7TH ARMIES  ...     0       0   \n",
       "1  GEN MOLTKE  FR 1ST & 2ND ARMIES & ARMY OF ALSACE  ...     0       0   \n",
       "\n",
       "   INTELA INITA ACHA PRIA1  ATPBYR1  ATPBMN1  ATPEYR1  ATPEMN1  \n",
       "0       0     0    4    FF     1914        8     1914        8  \n",
       "1       0     0    8    FF     1914        8     1914        8  \n",
       "\n",
       "[2 rows x 41 columns]"
      ]
     },
     "execution_count": 7,
     "metadata": {},
     "output_type": "execute_result"
    }
   ],
   "source": [
    "war_df4['POST1'] = war_df4['POST1'].replace('HD', \"Hasty Defense\")\n",
    "war_df4['POST1'] = war_df4['POST1'].replace('PD', \"Prepared Defense\")\n",
    "war_df4['POST1'] = war_df4['POST1'].replace('FD', \"Fortified Defense\")\n",
    "war_df4['POST1'] = war_df4['POST1'].replace('DL', \"Delay\")\n",
    "war_df4['POST1'] = war_df4['POST1'].replace('WD', \"Withdrawal\")\n",
    "war_df4['POST1'] = war_df4['POST1'].replace('OO', \"Unknown\")\n",
    "war_df4.head(2)"
   ]
  },
  {
   "cell_type": "code",
   "execution_count": 8,
   "metadata": {},
   "outputs": [],
   "source": [
    "war_df5 = war_df4.copy()"
   ]
  },
  {
   "cell_type": "code",
   "execution_count": 9,
   "metadata": {},
   "outputs": [
    {
     "data": {
      "text/html": [
       "<div>\n",
       "<style scoped>\n",
       "    .dataframe tbody tr th:only-of-type {\n",
       "        vertical-align: middle;\n",
       "    }\n",
       "\n",
       "    .dataframe tbody tr th {\n",
       "        vertical-align: top;\n",
       "    }\n",
       "\n",
       "    .dataframe thead th {\n",
       "        text-align: right;\n",
       "    }\n",
       "</style>\n",
       "<table border=\"1\" class=\"dataframe\">\n",
       "  <thead>\n",
       "    <tr style=\"text-align: right;\">\n",
       "      <th></th>\n",
       "      <th>index</th>\n",
       "      <th>ISEQNO</th>\n",
       "      <th>WINA</th>\n",
       "      <th>WAR</th>\n",
       "      <th>NAME</th>\n",
       "      <th>LOCN</th>\n",
       "      <th>CAMPAGN</th>\n",
       "      <th>NAMA</th>\n",
       "      <th>COA</th>\n",
       "      <th>NAMD</th>\n",
       "      <th>...</th>\n",
       "      <th>LOGSA</th>\n",
       "      <th>MOMNTA</th>\n",
       "      <th>INTELA</th>\n",
       "      <th>INITA</th>\n",
       "      <th>ACHA</th>\n",
       "      <th>PRIA1</th>\n",
       "      <th>ATPBYR1</th>\n",
       "      <th>ATPBMN1</th>\n",
       "      <th>ATPEYR1</th>\n",
       "      <th>ATPEMN1</th>\n",
       "    </tr>\n",
       "  </thead>\n",
       "  <tbody>\n",
       "    <tr>\n",
       "      <th>0</th>\n",
       "      <td>261</td>\n",
       "      <td>NaN</td>\n",
       "      <td>-1</td>\n",
       "      <td>WORLD WAR I</td>\n",
       "      <td>ALSACE-LORRAINE I</td>\n",
       "      <td>GERMANY</td>\n",
       "      <td>NaN</td>\n",
       "      <td>FR 1ST &amp; 2ND ARMIES, ARMY OF ALSACE</td>\n",
       "      <td>GEN JOFFRE</td>\n",
       "      <td>GER 6TH &amp;7TH ARMIES</td>\n",
       "      <td>...</td>\n",
       "      <td>0</td>\n",
       "      <td>0</td>\n",
       "      <td>0</td>\n",
       "      <td>0</td>\n",
       "      <td>4</td>\n",
       "      <td>FF</td>\n",
       "      <td>1914</td>\n",
       "      <td>8</td>\n",
       "      <td>1914</td>\n",
       "      <td>8</td>\n",
       "    </tr>\n",
       "    <tr>\n",
       "      <th>1</th>\n",
       "      <td>262</td>\n",
       "      <td>NaN</td>\n",
       "      <td>1</td>\n",
       "      <td>WORLD WAR I</td>\n",
       "      <td>ALSACE-LORRAINE II</td>\n",
       "      <td>GERMANY AND FRANCE</td>\n",
       "      <td>NaN</td>\n",
       "      <td>GER 6TH &amp; 7TH ARMIES</td>\n",
       "      <td>GEN MOLTKE</td>\n",
       "      <td>FR 1ST &amp; 2ND ARMIES &amp; ARMY OF ALSACE</td>\n",
       "      <td>...</td>\n",
       "      <td>0</td>\n",
       "      <td>0</td>\n",
       "      <td>0</td>\n",
       "      <td>0</td>\n",
       "      <td>8</td>\n",
       "      <td>FF</td>\n",
       "      <td>1914</td>\n",
       "      <td>8</td>\n",
       "      <td>1914</td>\n",
       "      <td>8</td>\n",
       "    </tr>\n",
       "  </tbody>\n",
       "</table>\n",
       "<p>2 rows × 41 columns</p>\n",
       "</div>"
      ],
      "text/plain": [
       "   index  ISEQNO  WINA          WAR                NAME                LOCN  \\\n",
       "0    261     NaN    -1  WORLD WAR I   ALSACE-LORRAINE I             GERMANY   \n",
       "1    262     NaN     1  WORLD WAR I  ALSACE-LORRAINE II  GERMANY AND FRANCE   \n",
       "\n",
       "  CAMPAGN                                 NAMA         COA  \\\n",
       "0     NaN  FR 1ST & 2ND ARMIES, ARMY OF ALSACE  GEN JOFFRE   \n",
       "1     NaN                 GER 6TH & 7TH ARMIES  GEN MOLTKE   \n",
       "\n",
       "                                   NAMD  ... LOGSA  MOMNTA  INTELA INITA ACHA  \\\n",
       "0                   GER 6TH &7TH ARMIES  ...     0       0       0     0    4   \n",
       "1  FR 1ST & 2ND ARMIES & ARMY OF ALSACE  ...     0       0       0     0    8   \n",
       "\n",
       "  PRIA1  ATPBYR1  ATPBMN1  ATPEYR1  ATPEMN1  \n",
       "0    FF     1914        8     1914        8  \n",
       "1    FF     1914        8     1914        8  \n",
       "\n",
       "[2 rows x 41 columns]"
      ]
     },
     "execution_count": 9,
     "metadata": {},
     "output_type": "execute_result"
    }
   ],
   "source": [
    "war_df5['WAR'] = war_df5['WAR'].replace('WORLD WAR II', 'WORLD WAR II')\n",
    "war_df5['WAR'] = war_df5['WAR'].replace('WORLD WAR II (EASTERN FRONT)', 'WORLD WAR II')\n",
    "war_df5['WAR'] = war_df5['WAR'].replace('WORLD WAR II (NORTH AFRICA 1942-1943)', 'WORLD WAR II')\n",
    "war_df5['WAR'] = war_df5['WAR'].replace('WORLD WAR II (ITALY 1943-1944)', 'WORLD WAR II')\n",
    "war_df5['WAR'] = war_df5['WAR'].replace('WORLD WAR II (ITALY 1944)', 'WORLD WAR II')\n",
    "war_df5['WAR'] = war_df5['WAR'].replace('WORLD WAR II (EUROPEAN THEATER)', 'WORLD WAR II')\n",
    "war_df5['WAR'] = war_df5['WAR'].replace('WORLD WAR II (OKINAWA)', 'WORLD WAR II')\n",
    "war_df5['WAR'] = war_df5['WAR'].replace('WORLD WAR I (WESTERN FRONT 1914)', 'WORLD WAR I')\n",
    "war_df5['WAR'] = war_df5['WAR'].replace('WORLD WAR I (EASTERN FRONT 1914)', 'WORLD WAR I')\n",
    "war_df5['WAR'] = war_df5['WAR'].replace('WORLD WAR I (SERBIAN FRONT 1914)', 'WORLD WAR I')\n",
    "war_df5['WAR'] = war_df5['WAR'].replace('WORLD WAR I', 'WORLD WAR I')\n",
    "war_df5['WAR'] = war_df5['WAR'].replace('WORLD WAR I (ITALIAN FRONT 1915)', 'WORLD WAR I')\n",
    "war_df5['WAR'] = war_df5['WAR'].replace('WORLD WAR I (TURKISH FRONTS 1915)', 'WORLD WAR I')\n",
    "war_df5['WAR'] = war_df5['WAR'].replace('WORLD WAR I (TURKISH FRONTS 1917)', 'WORLD WAR I')\n",
    "war_df5['WAR'] = war_df5['WAR'].replace('WORLD WAR I (WESTERN FRONT 1918)', 'WORLD WAR I')\n",
    "war_df5.head(2)"
   ]
  },
  {
   "cell_type": "code",
   "execution_count": 10,
   "metadata": {},
   "outputs": [],
   "source": [
    "replace_values = {'EGYPT':'North Africa', 'TUNISIA':'North Africa', 'FRANCE':'Europe', 'GERMANY': 'Europe', 'LUXEMBOURG':'Europe', 'POLAND': 'Europe', \n",
    "                 'NORTHWEST EUROPE':'Europe', 'BELGIUM':'Europe', 'Soviet Union':'USSR', 'MALAYA':'Pacific', 'JAPAN':'Pacific', 'OKINAWA': 'Pacific'}"
   ]
  },
  {
   "cell_type": "code",
   "execution_count": 11,
   "metadata": {},
   "outputs": [
    {
     "data": {
      "text/plain": [
       "Europe                        142\n",
       "ITALY                          72\n",
       "Pacific                        34\n",
       "USSR                           23\n",
       "North Africa                   11\n",
       "AUSTRIA                         9\n",
       "PALESTINE                       5\n",
       "AUSTRIAN GALICIA                4\n",
       "RUSSIAN POLAND                  4\n",
       "AUSTRIA AND ITALY               3\n",
       "TURKEY                          3\n",
       "MESOPOTAMIA                     3\n",
       "SERBIA                          2\n",
       "GERMANY AND FRANCE              1\n",
       "GERMANY AND RUSSIAN POLAND      1\n",
       "Name: LOCN, dtype: int64"
      ]
     },
     "execution_count": 11,
     "metadata": {},
     "output_type": "execute_result"
    }
   ],
   "source": [
    "# Grouping Regions ()\n",
    "war_df6 = war_df5.copy()\n",
    "war_df6 = war_df6.replace({'LOCN':replace_values})\n",
    "war_df6['LOCN'] = war_df6['LOCN'].replace('SOVIET UNION', \"USSR\")\n",
    "war_df6['LOCN'] = war_df6['LOCN'].replace('MANCHURIA', \"Pacific\")\n",
    "war_df6['LOCN'].value_counts()"
   ]
  },
  {
   "cell_type": "code",
   "execution_count": 12,
   "metadata": {},
   "outputs": [],
   "source": [
    "replace_values2 = {'AUSTRIA ':'Europe', 'ITALY':'Europe', 'AUSTRIAN GALICIA':'Europe', 'RUSSIAN POLAND ': 'USSR', 'AUSTRIA AND ITALY':'Europe', \n",
    "                   'SERBIA':'Europe','GERMANY AND FRANCE':'Europe', 'GERMANY AND RUSSIAN POLAND':'Europe', 'PALESTINE':'Middle East', \n",
    "                   'MESOPOTAMIA ': 'Middle East', 'TURKEY':'Middle East'}\n",
    "war_df6 = war_df6.replace({'LOCN':replace_values2})     \n",
    "# war_df6['LOCN'].value_counts()"
   ]
  },
  {
   "cell_type": "code",
   "execution_count": 13,
   "metadata": {},
   "outputs": [],
   "source": [
    "del war_df6['COA']\n",
    "del war_df6['COD']\n",
    "del war_df6['CAMPAGN']"
   ]
  },
  {
   "cell_type": "markdown",
   "metadata": {},
   "source": [
    "### Putting file to excel for editing."
   ]
  },
  {
   "cell_type": "code",
   "execution_count": 14,
   "metadata": {},
   "outputs": [
    {
     "data": {
      "text/plain": [
       "38"
      ]
     },
     "execution_count": 14,
     "metadata": {},
     "output_type": "execute_result"
    }
   ],
   "source": [
    "len(war_df6.columns.to_list())"
   ]
  },
  {
   "cell_type": "code",
   "execution_count": 15,
   "metadata": {},
   "outputs": [],
   "source": [
    "#war_df6.to_excel('War DF1.xlsx')"
   ]
  },
  {
   "cell_type": "markdown",
   "metadata": {},
   "source": [
    "### File Back from Excel, converted to ratios and simplified the attackers and defenders"
   ]
  },
  {
   "cell_type": "code",
   "execution_count": 3,
   "metadata": {},
   "outputs": [],
   "source": [
    "df_post_excel = pd.read_excel('War DF1_editing_v4.xlsx')"
   ]
  },
  {
   "cell_type": "code",
   "execution_count": 4,
   "metadata": {},
   "outputs": [
    {
     "data": {
      "text/html": [
       "<div>\n",
       "<style scoped>\n",
       "    .dataframe tbody tr th:only-of-type {\n",
       "        vertical-align: middle;\n",
       "    }\n",
       "\n",
       "    .dataframe tbody tr th {\n",
       "        vertical-align: top;\n",
       "    }\n",
       "\n",
       "    .dataframe thead th {\n",
       "        text-align: right;\n",
       "    }\n",
       "</style>\n",
       "<table border=\"1\" class=\"dataframe\">\n",
       "  <thead>\n",
       "    <tr style=\"text-align: right;\">\n",
       "      <th></th>\n",
       "      <th>Unnamed: 0</th>\n",
       "      <th>ISEQNO</th>\n",
       "      <th>Win</th>\n",
       "      <th>WAR</th>\n",
       "      <th>NAME</th>\n",
       "      <th>Location</th>\n",
       "      <th>Attacker</th>\n",
       "      <th>Defender</th>\n",
       "      <th>Defense</th>\n",
       "      <th>Terrain</th>\n",
       "      <th>...</th>\n",
       "      <th>Leadership</th>\n",
       "      <th>Training</th>\n",
       "      <th>Morale</th>\n",
       "      <th>Logisitics</th>\n",
       "      <th>Momentum</th>\n",
       "      <th>Intelligence</th>\n",
       "      <th>Initiative</th>\n",
       "      <th>Attack Scheme</th>\n",
       "      <th>Attack_Y</th>\n",
       "      <th>Attack_M</th>\n",
       "    </tr>\n",
       "  </thead>\n",
       "  <tbody>\n",
       "    <tr>\n",
       "      <th>0</th>\n",
       "      <td>49</td>\n",
       "      <td>310</td>\n",
       "      <td>1</td>\n",
       "      <td>WORLD WAR I</td>\n",
       "      <td>1916 BRUSILOV OFFENSIVE</td>\n",
       "      <td>Europe</td>\n",
       "      <td>Russian Army</td>\n",
       "      <td>Austrian Army</td>\n",
       "      <td>Prepared Defense</td>\n",
       "      <td>RM0</td>\n",
       "      <td>...</td>\n",
       "      <td>0</td>\n",
       "      <td>0</td>\n",
       "      <td>0</td>\n",
       "      <td>1</td>\n",
       "      <td>0</td>\n",
       "      <td>0</td>\n",
       "      <td>1</td>\n",
       "      <td>FF</td>\n",
       "      <td>1916</td>\n",
       "      <td>6</td>\n",
       "    </tr>\n",
       "    <tr>\n",
       "      <th>1</th>\n",
       "      <td>52</td>\n",
       "      <td>313</td>\n",
       "      <td>1</td>\n",
       "      <td>WORLD WAR I</td>\n",
       "      <td>TRENTINO COUNTER-OFFENSIVE</td>\n",
       "      <td>Europe</td>\n",
       "      <td>Italian Army</td>\n",
       "      <td>Austrian Army</td>\n",
       "      <td>Hasty Defense</td>\n",
       "      <td>GB0</td>\n",
       "      <td>...</td>\n",
       "      <td>0</td>\n",
       "      <td>0</td>\n",
       "      <td>0</td>\n",
       "      <td>1</td>\n",
       "      <td>0</td>\n",
       "      <td>0</td>\n",
       "      <td>0</td>\n",
       "      <td>FF</td>\n",
       "      <td>1916</td>\n",
       "      <td>6</td>\n",
       "    </tr>\n",
       "  </tbody>\n",
       "</table>\n",
       "<p>2 rows × 26 columns</p>\n",
       "</div>"
      ],
      "text/plain": [
       "   Unnamed: 0  ISEQNO  Win          WAR                        NAME Location  \\\n",
       "0          49     310    1  WORLD WAR I     1916 BRUSILOV OFFENSIVE   Europe   \n",
       "1          52     313    1  WORLD WAR I  TRENTINO COUNTER-OFFENSIVE   Europe   \n",
       "\n",
       "       Attacker       Defender           Defense Terrain  ... Leadership  \\\n",
       "0  Russian Army  Austrian Army  Prepared Defense     RM0  ...          0   \n",
       "1  Italian Army  Austrian Army     Hasty Defense     GB0  ...          0   \n",
       "\n",
       "   Training   Morale  Logisitics  Momentum  Intelligence  Initiative  \\\n",
       "0          0       0           1         0             0           1   \n",
       "1          0       0           1         0             0           0   \n",
       "\n",
       "   Attack Scheme  Attack_Y  Attack_M  \n",
       "0             FF      1916         6  \n",
       "1             FF      1916         6  \n",
       "\n",
       "[2 rows x 26 columns]"
      ]
     },
     "execution_count": 4,
     "metadata": {},
     "output_type": "execute_result"
    }
   ],
   "source": [
    "df_post_excel.head(2)"
   ]
  },
  {
   "cell_type": "markdown",
   "metadata": {},
   "source": [
    "### Fixing Terrain/Weather Values"
   ]
  },
  {
   "cell_type": "code",
   "execution_count": 6,
   "metadata": {},
   "outputs": [
    {
     "data": {
      "text/plain": [
       "Rolling/Mixed     167\n",
       "Rugged/Mixed       43\n",
       "Flat/Mixed         42\n",
       "Rugged/Wooded      17\n",
       "Rugged/Bare        13\n",
       "Flat/Bare          12\n",
       "Flat/Wooded         6\n",
       "Flat/Desert         5\n",
       "Rolling/Wooded      5\n",
       "Rolling/Bare        5\n",
       "Rolling/Desert      2\n",
       "Name: Terrain, dtype: int64"
      ]
     },
     "execution_count": 6,
     "metadata": {},
     "output_type": "execute_result"
    }
   ],
   "source": [
    "t_replace_values = {'RM0':'Rolling/Mixed', 'GM0':'Rugged/Mixed', 'FM0':'Flat/Mixed', 'FB0':'Flat/Bare', \"GW0\":'Rugged/Wooded','GB0':'Rugged/Bare','FD0':'Flat/Desert',\n",
    "                   'RB0':'Rolling/Bare', 'RW0':'Rolling/Wooded', 'FW0': 'Flat/Wooded','RD0':'Rolling/Desert','R00':'Rugged/Wooded','FWM':'Flat/Wooded', 'Flat/Wooed':'Flat/Wooded'}\n",
    "df_post_excel_2 = df_post_excel.replace({'Terrain':t_replace_values})\n",
    "df_post_excel_2['Terrain'].value_counts()"
   ]
  },
  {
   "cell_type": "code",
   "execution_count": 7,
   "metadata": {},
   "outputs": [
    {
     "data": {
      "text/plain": [
       "Dry/Sunny/Temperate       169\n",
       "Wet/L_Rain/Temperate       43\n",
       "Dry/Overcast/Temperate     33\n",
       "Wet/L_Rain/Cold            21\n",
       "Dry/Sunny/Cold             19\n",
       "Wet/H_Rain/Temperate       17\n",
       "Wet/H_Rain/Cold             8\n",
       "Dry/Overcast/Cold           3\n",
       "WOT                         2\n",
       "000                         1\n",
       "Wet/H_Rain/Hot              1\n",
       "Name: Weather, dtype: int64"
      ]
     },
     "execution_count": 7,
     "metadata": {},
     "output_type": "execute_result"
    }
   ],
   "source": [
    "df_post_excel_2.copy()\n",
    "w_replace_values = {'DST':'Dry/Sunny/Temperate', 'WLT':'Wet/L_Rain/Temperate','WLC':'Wet/L_Rain/Cold','DSC':'Dry/Sunny/Cold','WHT':'Wet/H_Rain/Temperate','DOT':'Dry/Overcast/Temperate',\n",
    "                   'D0C':'Dry/Sunny/Cold', 'WHC':'Wet/H_Rain/Cold','W0C':'Wet/L_Rain/Cold','DOC':'Dry/Overcast/Cold', 'D0T':'Dry/Overcast/Temperate','WHH':'Wet/H_Rain/Hot'}\n",
    "df_post_excel_2 = df_post_excel_2.replace({'Weather':w_replace_values})"
   ]
  },
  {
   "cell_type": "code",
   "execution_count": 9,
   "metadata": {},
   "outputs": [
    {
     "data": {
      "text/plain": [
       "Dry/Sunny/Temperate       169\n",
       "Wet/L_Rain/Temperate       43\n",
       "Dry/Overcast/Temperate     33\n",
       "Wet/L_Rain/Cold            21\n",
       "Dry/Sunny/Cold             19\n",
       "Wet/H_Rain/Temperate       17\n",
       "Wet/H_Rain/Cold             8\n",
       "Dry/Overcast/Cold           3\n",
       "WOT                         2\n",
       "000                         1\n",
       "Wet/H_Rain/Hot              1\n",
       "Name: Weather, dtype: int64"
      ]
     },
     "execution_count": 9,
     "metadata": {},
     "output_type": "execute_result"
    }
   ],
   "source": [
    "df_post_excel_2['Weather'].replace('WOT', 'Wet/Overcast/Temperate')\n",
    "df_post_excel_2['Weather'].replace('000 ', 'Unknown')\n",
    "df_post_excel_2['Weather'].value_counts()"
   ]
  },
  {
   "cell_type": "code",
   "execution_count": 10,
   "metadata": {},
   "outputs": [],
   "source": [
    "#df_post_excel_2.to_excel('war_df_excel_2.xlsx')"
   ]
  },
  {
   "cell_type": "code",
   "execution_count": 11,
   "metadata": {},
   "outputs": [],
   "source": [
    "df_final_v1 = pd.read_excel('war_df_excel_2.xlsx')"
   ]
  },
  {
   "cell_type": "code",
   "execution_count": 13,
   "metadata": {},
   "outputs": [],
   "source": [
    "df_final_v1.to_csv('R_war_df.csv')"
   ]
  },
  {
   "cell_type": "code",
   "execution_count": null,
   "metadata": {},
   "outputs": [],
   "source": []
  },
  {
   "cell_type": "code",
   "execution_count": null,
   "metadata": {},
   "outputs": [],
   "source": []
  },
  {
   "cell_type": "code",
   "execution_count": null,
   "metadata": {},
   "outputs": [],
   "source": []
  },
  {
   "cell_type": "code",
   "execution_count": null,
   "metadata": {},
   "outputs": [],
   "source": []
  }
 ],
 "metadata": {
  "kernelspec": {
   "display_name": "Python 3",
   "language": "python",
   "name": "python3"
  },
  "language_info": {
   "codemirror_mode": {
    "name": "ipython",
    "version": 3
   },
   "file_extension": ".py",
   "mimetype": "text/x-python",
   "name": "python",
   "nbconvert_exporter": "python",
   "pygments_lexer": "ipython3",
   "version": "3.7.3"
  }
 },
 "nbformat": 4,
 "nbformat_minor": 4
}
